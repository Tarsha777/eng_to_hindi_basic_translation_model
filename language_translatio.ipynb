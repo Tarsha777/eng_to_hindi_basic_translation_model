{
  "nbformat": 4,
  "nbformat_minor": 0,
  "metadata": {
    "colab": {
      "provenance": [],
      "authorship_tag": "ABX9TyNdUM0AJ8H4CAup2mboRfze",
      "include_colab_link": true
    },
    "kernelspec": {
      "name": "python3",
      "display_name": "Python 3"
    },
    "language_info": {
      "name": "python"
    }
  },
  "cells": [
    {
      "cell_type": "markdown",
      "metadata": {
        "id": "view-in-github",
        "colab_type": "text"
      },
      "source": [
        "<a href=\"https://colab.research.google.com/github/Tarsha777/eng_to_hindi_basic_translation_model/blob/main/language_translatio.ipynb\" target=\"_parent\"><img src=\"https://colab.research.google.com/assets/colab-badge.svg\" alt=\"Open In Colab\"/></a>"
      ]
    },
    {
      "cell_type": "code",
      "execution_count": null,
      "metadata": {
        "id": "uVu8rK7xXpwX",
        "colab": {
          "base_uri": "https://localhost:8080/"
        },
        "outputId": "3e0531b4-9c53-458d-ea33-5c9124ab5642"
      },
      "outputs": [
        {
          "output_type": "stream",
          "name": "stdout",
          "text": [
            "Requirement already satisfied: transformers in /usr/local/lib/python3.11/dist-packages (4.51.3)\n",
            "Requirement already satisfied: sentencepiece in /usr/local/lib/python3.11/dist-packages (0.2.0)\n",
            "Requirement already satisfied: filelock in /usr/local/lib/python3.11/dist-packages (from transformers) (3.18.0)\n",
            "Requirement already satisfied: huggingface-hub<1.0,>=0.30.0 in /usr/local/lib/python3.11/dist-packages (from transformers) (0.30.2)\n",
            "Requirement already satisfied: numpy>=1.17 in /usr/local/lib/python3.11/dist-packages (from transformers) (2.0.2)\n",
            "Requirement already satisfied: packaging>=20.0 in /usr/local/lib/python3.11/dist-packages (from transformers) (24.2)\n",
            "Requirement already satisfied: pyyaml>=5.1 in /usr/local/lib/python3.11/dist-packages (from transformers) (6.0.2)\n",
            "Requirement already satisfied: regex!=2019.12.17 in /usr/local/lib/python3.11/dist-packages (from transformers) (2024.11.6)\n",
            "Requirement already satisfied: requests in /usr/local/lib/python3.11/dist-packages (from transformers) (2.32.3)\n",
            "Requirement already satisfied: tokenizers<0.22,>=0.21 in /usr/local/lib/python3.11/dist-packages (from transformers) (0.21.1)\n",
            "Requirement already satisfied: safetensors>=0.4.3 in /usr/local/lib/python3.11/dist-packages (from transformers) (0.5.3)\n",
            "Requirement already satisfied: tqdm>=4.27 in /usr/local/lib/python3.11/dist-packages (from transformers) (4.67.1)\n",
            "Requirement already satisfied: fsspec>=2023.5.0 in /usr/local/lib/python3.11/dist-packages (from huggingface-hub<1.0,>=0.30.0->transformers) (2025.3.2)\n",
            "Requirement already satisfied: typing-extensions>=3.7.4.3 in /usr/local/lib/python3.11/dist-packages (from huggingface-hub<1.0,>=0.30.0->transformers) (4.13.2)\n",
            "Requirement already satisfied: charset-normalizer<4,>=2 in /usr/local/lib/python3.11/dist-packages (from requests->transformers) (3.4.1)\n",
            "Requirement already satisfied: idna<4,>=2.5 in /usr/local/lib/python3.11/dist-packages (from requests->transformers) (3.10)\n",
            "Requirement already satisfied: urllib3<3,>=1.21.1 in /usr/local/lib/python3.11/dist-packages (from requests->transformers) (2.4.0)\n",
            "Requirement already satisfied: certifi>=2017.4.17 in /usr/local/lib/python3.11/dist-packages (from requests->transformers) (2025.1.31)\n"
          ]
        }
      ],
      "source": [
        "#text translation model\n",
        "!pip install transformers sentencepiece\n"
      ]
    },
    {
      "cell_type": "code",
      "source": [
        "\n",
        "# Step 2: Import libraries\n",
        "from transformers import MarianMTModel, MarianTokenizer\n",
        "import torch\n"
      ],
      "metadata": {
        "id": "Xi0BLi3gWgii"
      },
      "execution_count": null,
      "outputs": []
    },
    {
      "cell_type": "code",
      "source": [
        "# 100 English-Hindi Sentence Pairs\n",
        "english_sentences = [\n",
        "    \"Hello\", \"How are you?\", \"I love you\", \"Thank you\", \"Good morning\", \"Good night\", \"See you soon\", \"Welcome\", \"What is your name?\", \"Where are you from?\",\n",
        "    \"I am fine\", \"Nice to meet you\", \"Have a nice day\", \"I am sorry\", \"Good afternoon\", \"Congratulations\", \"I don't understand\", \"Can you help me?\", \"I am learning Hindi\", \"Please speak slowly\",\n",
        "    \"I am hungry\", \"I am thirsty\", \"Where is the bathroom?\", \"How much is this?\", \"What time is it?\", \"I am tired\", \"Excuse me\", \"Bless you\", \"Good luck\", \"Happy birthday\",\n",
        "    \"Happy New Year\", \"Merry Christmas\", \"See you tomorrow\", \"Take care\", \"What happened?\", \"Don't worry\", \"Everything is fine\", \"Be careful\", \"I miss you\", \"Call me\",\n",
        "    \"Come here\", \"Go there\", \"Let's go\", \"Wait for me\", \"I agree\", \"I disagree\", \"I am happy\", \"I am sad\", \"It is raining\", \"It is sunny\",\n",
        "    \"I am cold\", \"I am hot\", \"I am bored\", \"I am excited\", \"I am busy\", \"I am free\", \"Can I help you?\", \"Can you come?\", \"Can you wait?\", \"Come with me\",\n",
        "    \"Leave me alone\", \"Follow me\", \"Stop it\", \"Don't do that\", \"Do you speak English?\", \"I don't know\", \"I think so\", \"I hope so\", \"Of course\", \"No problem\",\n",
        "    \"What do you mean?\", \"Can you repeat?\", \"I forgot\", \"I remember\", \"What do you want?\", \"I need help\", \"I don't like it\", \"I like it\", \"It is beautiful\", \"It is ugly\",\n",
        "    \"What is this?\", \"Where is it?\", \"When will you come?\", \"Who are you?\", \"Why are you late?\", \"Which one?\", \"How many?\", \"How far?\", \"Can I sit here?\", \"Can I join?\",\n",
        "    \"Is it ready?\", \"Are you sure?\", \"It's possible\", \"It's impossible\", \"It doesn't matter\", \"Never mind\", \"Thank you very much\", \"You're welcome\", \"Good job\", \"Well done\"\n",
        "]\n",
        "\n",
        "hindi_sentences = [\n",
        "    \"नमस्ते\", \"आप कैसे हैं?\", \"मैं तुमसे प्यार करता हूँ\", \"धन्यवाद\", \"सुप्रभात\", \"शुभ रात्रि\", \"फिर मिलेंगे\", \"स्वागत है\", \"आपका नाम क्या है?\", \"आप कहाँ से हैं?\",\n",
        "    \"मैं ठीक हूँ\", \"आपसे मिलकर अच्छा लगा\", \"आपका दिन शुभ हो\", \"मुझे खेद है\", \"शुभ अपराह्न\", \"बधाई हो\", \"मैं नहीं समझता\", \"क्या आप मेरी मदद कर सकते हैं?\", \"मैं हिंदी सीख रहा हूँ\", \"कृपया धीरे बोलिए\",\n",
        "    \"मुझे भूख लगी है\", \"मुझे प्यास लगी है\", \"शौचालय कहाँ है?\", \"यह कितने का है?\", \"समय क्या हुआ है?\", \"मैं थका हुआ हूँ\", \"माफ़ कीजिए\", \"भगवान भला करे\", \"शुभकामनाएँ\", \"जन्मदिन मुबारक हो\",\n",
        "    \"नया साल मुबारक हो\", \"क्रिसमस की शुभकामनाएँ\", \"कल मिलते हैं\", \"अपना ख्याल रखना\", \"क्या हुआ?\", \"चिंता मत करो\", \"सब कुछ ठीक है\", \"सावधान रहें\", \"मैं तुम्हें याद करता हूँ\", \"मुझे कॉल करें\",\n",
        "    \"यहाँ आओ\", \"वहाँ जाओ\", \"चलो चलते हैं\", \"मेरे लिए प्रतीक्षा करें\", \"मैं सहमत हूँ\", \"मैं असहमत हूँ\", \"मैं खुश हूँ\", \"मैं दुखी हूँ\", \"बारिश हो रही है\", \"धूप निकल रही है\",\n",
        "    \"मुझे ठंड लग रही है\", \"मुझे गर्मी लग रही है\", \"मैं बोर हो रहा हूँ\", \"मैं उत्साहित हूँ\", \"मैं व्यस्त हूँ\", \"मैं फ्री हूँ\", \"क्या मैं आपकी मदद कर सकता हूँ?\", \"क्या आप आ सकते हैं?\", \"क्या आप प्रतीक्षा कर सकते हैं?\", \"मेरे साथ आओ\",\n",
        "    \"मुझे अकेला छोड़ दो\", \"मेरा अनुसरण करें\", \"इसे बंद करो\", \"ऐसा मत करो\", \"क्या आप अंग्रेजी बोलते हैं?\", \"मुझे नहीं पता\", \"मुझे ऐसा लगता है\", \"मुझे उम्मीद है\", \"बिलकुल\", \"कोई समस्या नहीं\",\n",
        "    \"आपका क्या मतलब है?\", \"क्या आप दोहरा सकते हैं?\", \"मैं भूल गया\", \"मुझे याद है\", \"आप क्या चाहते हैं?\", \"मुझे मदद चाहिए\", \"मुझे यह पसंद नहीं है\", \"मुझे यह पसंद है\", \"यह सुंदर है\", \"यह बदसूरत है\",\n",
        "    \"यह क्या है?\", \"यह कहाँ है?\", \"आप कब आएंगे?\", \"आप कौन हैं?\", \"आप देर से क्यों आए?\", \"कौन सा?\", \"कितने?\", \"कितनी दूर?\", \"क्या मैं यहाँ बैठ सकता हूँ?\", \"क्या मैं शामिल हो सकता हूँ?\",\n",
        "    \"क्या यह तैयार है?\", \"क्या आप निश्चित हैं?\", \"यह संभव है\", \"यह असंभव है\", \"कोई फर्क नहीं पड़ता\", \"कोई बात नहीं\", \"बहुत बहुत धन्यवाद\", \"आपका स्वागत है\", \"शानदार काम\", \"बहुत अच्छा\"\n",
        "]\n"
      ],
      "metadata": {
        "id": "TLIpaAcrYdS9"
      },
      "execution_count": null,
      "outputs": []
    },
    {
      "cell_type": "code",
      "source": [
        "# Load a Pretrained Tokenizer and Model (English to Hindi)\n",
        "model_name = \"Helsinki-NLP/opus-mt-en-hi\"\n",
        "\n",
        "tokenizer = MarianTokenizer.from_pretrained(model_name)\n",
        "model = MarianMTModel.from_pretrained(model_name)\n"
      ],
      "metadata": {
        "id": "gUom12ruYd4D"
      },
      "execution_count": null,
      "outputs": []
    },
    {
      "cell_type": "code",
      "source": [
        "test=[\"rose\",\"what\",\"when\",\"Hard\",\"chat\"]"
      ],
      "metadata": {
        "id": "hQp256XQaul2"
      },
      "execution_count": null,
      "outputs": []
    },
    {
      "cell_type": "code",
      "source": [
        "# Tokenize English Sentences\n",
        "batch = tokenizer(test, return_tensors=\"pt\", padding=True)\n",
        "\n",
        "# Generate Hindi translations\n",
        "translated = model.generate(**batch)\n",
        "\n",
        "# Decode the output tokens back to Hindi sentences\n",
        "hindi_outputs = tokenizer.batch_decode(translated, skip_special_tokens=True)\n",
        "\n",
        "# Let's print them side-by-side\n",
        "for eng, hin in zip(test, hindi_outputs):\n",
        "    print(f\"{eng} => {hin}\")\n"
      ],
      "metadata": {
        "colab": {
          "base_uri": "https://localhost:8080/"
        },
        "id": "_JS9st6tYrsh",
        "outputId": "3da74555-7185-4cdb-b3ea-3a651c63c830"
      },
      "execution_count": null,
      "outputs": [
        {
          "output_type": "stream",
          "name": "stdout",
          "text": [
            "rose => उठकर\n",
            "what => क्या\n",
            "when => कब\n",
            "Hard => कठिन\n",
            "chat => गपशप\n"
          ]
        }
      ]
    },
    {
      "cell_type": "code",
      "source": [],
      "metadata": {
        "id": "YKDw-FERbo7w"
      },
      "execution_count": null,
      "outputs": []
    }
  ]
}